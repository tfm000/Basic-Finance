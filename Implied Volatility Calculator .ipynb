{
 "cells": [
  {
   "cell_type": "markdown",
   "metadata": {},
   "source": [
    "Note the implied volatility of a call and a put are the same"
   ]
  },
  {
   "cell_type": "code",
   "execution_count": 1,
   "metadata": {},
   "outputs": [],
   "source": [
    "from scipy.stats import norm\n",
    "import numpy as np"
   ]
  },
  {
   "cell_type": "code",
   "execution_count": 2,
   "metadata": {},
   "outputs": [],
   "source": [
    "class ImpliedVolatility:\n",
    "    \n",
    "    '''\n",
    "    n    = number of newton-raphson interations\n",
    "    type = 'put' or 'call'\n",
    "    v    = option price\n",
    "    r    = risk free rate\n",
    "    s    = price of underlying\n",
    "    k    = strike price\n",
    "    t    = time to maturity\n",
    "    '''\n",
    "    \n",
    "    def __init__(self,type,v,r,s,k,t):\n",
    "        self.type = type.strip().lower()\n",
    "        self.v    = v\n",
    "        self.r    = r\n",
    "        self.s    = s\n",
    "        self.k    = k\n",
    "        self.t    = t\n",
    "    \n",
    "    def vega(self,sigma):\n",
    "        d1 = (np.log(self.s/self.k)+(self.r-sigma*sigma*0.5)*np.sqrt(self.t))/(sigma*np.sqrt(self.t))\n",
    "        return self.s*norm.pdf(d1)*np.sqrt(self.t)\n",
    "    \n",
    "    def BSCall(self,sigma):\n",
    "        d1 = (np.log(self.s/self.k)+(self.r-sigma*sigma*0.5)*np.sqrt(self.t))/(sigma*np.sqrt(self.t))\n",
    "        d2 = d1 - sigma*np.sqrt(self.t)\n",
    "        return self.s*norm.cdf(d1) - np.exp(-self.r*self.t)*self.k*norm.cdf(d2)\n",
    "    \n",
    "    def Put2CallConverter(self):\n",
    "        '''\n",
    "        calculates price of equivalent call option via put-call parity\n",
    "        '''\n",
    "        self.v    = self.v - self.k*np.exp(-self.r*self.t) + self.s\n",
    "        self.type ='call'\n",
    "        \n",
    "    def NewtonCalculation(self,n=10):\n",
    "        '''\n",
    "        n = number of Newton-Raphson iterations\n",
    "        '''\n",
    "        if self.type == 'put':\n",
    "            self.Put2CallConverter()\n",
    "        \n",
    "        if n == 0:\n",
    "            return 1\n",
    "        return self.NewtonCalculation(n-1) - (self.BSCall(self.NewtonCalculation(n-1)) - self.v)/self.vega(self.NewtonCalculation(n-1))"
   ]
  },
  {
   "cell_type": "markdown",
   "metadata": {},
   "source": [
    "Examples"
   ]
  },
  {
   "cell_type": "code",
   "execution_count": 3,
   "metadata": {},
   "outputs": [
    {
     "data": {
      "text/plain": [
       "0.2504400094405454"
      ]
     },
     "execution_count": 3,
     "metadata": {},
     "output_type": "execute_result"
    }
   ],
   "source": [
    "ImpliedVolatility('put',0.3215,0.05,50,45,1/6).NewtonCalculation()"
   ]
  },
  {
   "cell_type": "code",
   "execution_count": 4,
   "metadata": {},
   "outputs": [
    {
     "data": {
      "text/plain": [
       "0.20027319132242422"
      ]
     },
     "execution_count": 4,
     "metadata": {},
     "output_type": "execute_result"
    }
   ],
   "source": [
    "ImpliedVolatility('call',1.9982,0.05,75,80,1/3).NewtonCalculation()"
   ]
  },
  {
   "cell_type": "code",
   "execution_count": null,
   "metadata": {},
   "outputs": [],
   "source": []
  }
 ],
 "metadata": {
  "kernelspec": {
   "display_name": "Python 3",
   "language": "python",
   "name": "python3"
  },
  "language_info": {
   "codemirror_mode": {
    "name": "ipython",
    "version": 3
   },
   "file_extension": ".py",
   "mimetype": "text/x-python",
   "name": "python",
   "nbconvert_exporter": "python",
   "pygments_lexer": "ipython3",
   "version": "3.6.9"
  }
 },
 "nbformat": 4,
 "nbformat_minor": 2
}
