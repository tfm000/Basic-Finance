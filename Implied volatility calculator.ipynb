{
 "cells": [
  {
   "cell_type": "markdown",
   "metadata": {},
   "source": [
    "Note the implied volatility of a call and a put are the same"
   ]
  },
  {
   "cell_type": "code",
   "execution_count": 1,
   "metadata": {},
   "outputs": [],
   "source": [
    "from scipy.stats import norm\n",
    "import numpy as np"
   ]
  },
  {
   "cell_type": "code",
   "execution_count": 2,
   "metadata": {},
   "outputs": [],
   "source": [
    "def vega(sigma,r,s0,k,t):\n",
    "    d1 = (np.log(s0/k)+(r-sigma*sigma*0.5)*np.sqrt(t))/(sigma*np.sqrt(t))\n",
    "    return s0*norm.pdf(d1)*np.sqrt(t)"
   ]
  },
  {
   "cell_type": "code",
   "execution_count": 3,
   "metadata": {},
   "outputs": [],
   "source": [
    "def BSCall(sigma,r,s0,k,t):\n",
    "    d1 = (np.log(s0/k)+(r-sigma*sigma*0.5)*np.sqrt(t))/(sigma*np.sqrt(t))\n",
    "    d2 = d1 - sigma*np.sqrt(t)\n",
    "    return s0*norm.cdf(d1) - np.exp(-r*t)*k*norm.cdf(d2)"
   ]
  },
  {
   "cell_type": "code",
   "execution_count": 6,
   "metadata": {},
   "outputs": [],
   "source": [
    "def NewtonCalculation(n,c,r,s0,k,t):\n",
    "    if n == 0:\n",
    "        return 0.1\n",
    "    return NewtonCalculation(n-1,c,r,s0,k,t) - (BSCall(NewtonCalculation(n-1,c,r,s0,k,t),r,s0,k,t) - c)/vega(NewtonCalculation(n-1,c,r,s0,k,t),r,s0,k,t)"
   ]
  },
  {
   "cell_type": "code",
   "execution_count": 9,
   "metadata": {},
   "outputs": [
    {
     "data": {
      "text/plain": [
       "0.20027319132242327"
      ]
     },
     "execution_count": 9,
     "metadata": {},
     "output_type": "execute_result"
    }
   ],
   "source": [
    "NewtonCalculation(10,1.9982,0.05,75,80,1/3)"
   ]
  },
  {
   "cell_type": "code",
   "execution_count": null,
   "metadata": {},
   "outputs": [],
   "source": []
  }
 ],
 "metadata": {
  "kernelspec": {
   "display_name": "Python 3",
   "language": "python",
   "name": "python3"
  },
  "language_info": {
   "codemirror_mode": {
    "name": "ipython",
    "version": 3
   },
   "file_extension": ".py",
   "mimetype": "text/x-python",
   "name": "python",
   "nbconvert_exporter": "python",
   "pygments_lexer": "ipython3",
   "version": "3.6.9"
  }
 },
 "nbformat": 4,
 "nbformat_minor": 2
}
