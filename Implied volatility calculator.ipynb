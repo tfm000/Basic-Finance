{
 "cells": [
  {
   "cell_type": "markdown",
   "metadata": {},
   "source": [
    "Note the implied volatility of a call and a put are the same"
   ]
  },
  {
   "cell_type": "code",
   "execution_count": 1,
   "metadata": {},
   "outputs": [],
   "source": [
    "from scipy.stats import norm\n",
    "import numpy as np"
   ]
  },
  {
   "cell_type": "code",
   "execution_count": 2,
   "metadata": {},
   "outputs": [],
   "source": [
    "def vega(sigma,r,s0,k,t):\n",
    "    d1 = (np.log(s0/k)+(r-sigma*sigma*0.5)*np.sqrt(t))/(sigma*np.sqrt(t))\n",
    "    return s0*norm.pdf(d1)*np.sqrt(t)"
   ]
  },
  {
   "cell_type": "code",
   "execution_count": 3,
   "metadata": {},
   "outputs": [],
   "source": [
    "def BSCall(sigma,r,s0,k,t):\n",
    "    d1 = (np.log(s0/k)+(r-sigma*sigma*0.5)*np.sqrt(t))/(sigma*np.sqrt(t))\n",
    "    d2 = d1 - sigma*np.sqrt(t)\n",
    "    return s0*norm.cdf(d1) - np.exp(-r*t)*k*norm.cdf(d2)"
   ]
  },
  {
   "cell_type": "code",
   "execution_count": 41,
   "metadata": {},
   "outputs": [],
   "source": [
    "def BSPut(sigma,r,s0,k,t):\n",
    "    return BSCall(sigma,r,s0,k,t) + k*np.exp(-r*t) - s0"
   ]
  },
  {
   "cell_type": "code",
   "execution_count": 66,
   "metadata": {},
   "outputs": [],
   "source": [
    "def CallNewtonCalculation(n,c,r,s0,k,t):\n",
    "    if n == 0:\n",
    "        return 1\n",
    "    return CallNewtonCalculation(n-1,c,r,s0,k,t) - (BSCall(CallNewtonCalculation(n-1,c,r,s0,k,t),r,s0,k,t) - c)/vega(CallNewtonCalculation(n-1,c,r,s0,k,t),r,s0,k,t)"
   ]
  },
  {
   "cell_type": "code",
   "execution_count": 63,
   "metadata": {},
   "outputs": [],
   "source": [
    "def PutNewtonCalculation(n,p,r,s0,k,t):\n",
    "    if n == 0:\n",
    "        return 1\n",
    "    return PutNewtonCalculation(n-1,p,r,s0,k,t) - (BSPut(PutNewtonCalculation(n-1,p,r,s0,k,t),r,s0,k,t) - p)/vega(PutNewtonCalculation(n-1,p,r,s0,k,t),r,s0,k,t)"
   ]
  },
  {
   "cell_type": "markdown",
   "metadata": {},
   "source": [
    "Examples"
   ]
  },
  {
   "cell_type": "code",
   "execution_count": 67,
   "metadata": {},
   "outputs": [
    {
     "data": {
      "text/plain": [
       "0.20027319132242422"
      ]
     },
     "execution_count": 67,
     "metadata": {},
     "output_type": "execute_result"
    }
   ],
   "source": [
    "CallNewtonCalculation(10,1.9982,0.05,75,80,1/3)"
   ]
  },
  {
   "cell_type": "code",
   "execution_count": 68,
   "metadata": {},
   "outputs": [
    {
     "data": {
      "text/plain": [
       "0.20027319132242422"
      ]
     },
     "execution_count": 68,
     "metadata": {},
     "output_type": "execute_result"
    }
   ],
   "source": [
    "CallNewtonCalculation(10,3.9964,0.05,150,160,1/3)"
   ]
  },
  {
   "cell_type": "code",
   "execution_count": 64,
   "metadata": {},
   "outputs": [
    {
     "data": {
      "text/plain": [
       "0.20000107819889626"
      ]
     },
     "execution_count": 64,
     "metadata": {},
     "output_type": "execute_result"
    }
   ],
   "source": [
    "PutNewtonCalculation(10,1.4224,0.05,50,50,1/6)"
   ]
  },
  {
   "cell_type": "code",
   "execution_count": 65,
   "metadata": {},
   "outputs": [
    {
     "data": {
      "text/plain": [
       "0.25044000944054357"
      ]
     },
     "execution_count": 65,
     "metadata": {},
     "output_type": "execute_result"
    }
   ],
   "source": [
    "PutNewtonCalculation(10,0.3215,0.05,50,45,1/6)"
   ]
  },
  {
   "cell_type": "code",
   "execution_count": null,
   "metadata": {},
   "outputs": [],
   "source": []
  }
 ],
 "metadata": {
  "kernelspec": {
   "display_name": "Python 3",
   "language": "python",
   "name": "python3"
  },
  "language_info": {
   "codemirror_mode": {
    "name": "ipython",
    "version": 3
   },
   "file_extension": ".py",
   "mimetype": "text/x-python",
   "name": "python",
   "nbconvert_exporter": "python",
   "pygments_lexer": "ipython3",
   "version": "3.6.9"
  }
 },
 "nbformat": 4,
 "nbformat_minor": 2
}
